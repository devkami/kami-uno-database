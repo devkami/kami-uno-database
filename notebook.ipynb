{
 "cells": [
  {
   "cell_type": "code",
   "execution_count": 1,
   "metadata": {},
   "outputs": [
    {
     "name": "stderr",
     "output_type": "stream",
     "text": [
      "2023-10-06 15:34:46 - [database] [INFO]: Calling update_database_functions\n",
      "2023-10-06 15:34:46 - [filemanager] [INFO]: Calling get_file_list_from\n",
      "2023-10-06 15:34:46 - [filemanager] [INFO]: __Folder: /home/maicondmenezes/dev/kami-uno-database/kami_uno_database/functions\n",
      "2023-10-06 15:34:46 - [filemanager] [INFO]: ____File: /home/maicondmenezes/dev/kami-uno-database/kami_uno_database/functions/functions.sql\n",
      "2023-10-06 15:34:46 - [filemanager] [INFO]: Finished Calling get_file_list_from\n",
      "2023-10-06 15:34:46 - [filemanager] [INFO]: Execution of get_file_list_from took 0.001.\n",
      "2023-10-06 15:34:46 - [database] [INFO]: Calling execute_queries\n",
      "2023-10-06 15:34:46 - [database] [INFO]: Calling execute_query\n",
      "2023-10-06 15:34:46 - [database] [INFO]: execute /home/maicondmenezes/dev/kami-uno-database/kami_uno_database/functions/functions.sql\n",
      "2023-10-06 15:34:46 - [database] [INFO]: Finished Calling execute_query\n",
      "2023-10-06 15:34:46 - [database] [INFO]: Execution of execute_query took 0.314.\n",
      "2023-10-06 15:34:46 - [database] [INFO]: Finished Calling execute_queries\n",
      "2023-10-06 15:34:46 - [database] [INFO]: Execution of execute_queries took 0.316.\n",
      "2023-10-06 15:34:46 - [database] [INFO]: Finished Calling update_database_functions\n",
      "2023-10-06 15:34:46 - [database] [INFO]: Execution of update_database_functions took 0.320.\n"
     ]
    }
   ],
   "source": [
    "from kami_uno_database import update_database_functions, update_database_views\n",
    "update_database_functions()"
   ]
  }
 ],
 "metadata": {
  "kernelspec": {
   "display_name": "kami-uno-database-AoX0J9Ui-py3.11",
   "language": "python",
   "name": "python3"
  },
  "language_info": {
   "codemirror_mode": {
    "name": "ipython",
    "version": 3
   },
   "file_extension": ".py",
   "mimetype": "text/x-python",
   "name": "python",
   "nbconvert_exporter": "python",
   "pygments_lexer": "ipython3",
   "version": "3.11.2"
  },
  "orig_nbformat": 4
 },
 "nbformat": 4,
 "nbformat_minor": 2
}
